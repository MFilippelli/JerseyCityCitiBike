{
 "cells": [
  {
   "cell_type": "code",
   "execution_count": null,
   "metadata": {
    "collapsed": true
   },
   "outputs": [],
   "source": []
  },
  {
   "cell_type": "code",
   "execution_count": 1,
   "metadata": {
    "collapsed": false
   },
   "outputs": [
    {
     "name": "stderr",
     "output_type": "stream",
     "text": [
      "/opt/rh/anaconda/root/lib/python2.7/site-packages/pandas/computation/__init__.py:19: UserWarning: The installed version of numexpr 2.4.4 is not supported in pandas and will be not be used\n",
      "\n",
      "  UserWarning)\n"
     ]
    }
   ],
   "source": [
    "import pandas as pd\n",
    "import csv"
   ]
  },
  {
   "cell_type": "code",
   "execution_count": 3,
   "metadata": {
    "collapsed": false
   },
   "outputs": [
    {
     "data": {
      "text/html": [
       "<div>\n",
       "<table border=\"1\" class=\"dataframe\">\n",
       "  <thead>\n",
       "    <tr style=\"text-align: right;\">\n",
       "      <th></th>\n",
       "      <th>tripduration</th>\n",
       "      <th>starttime</th>\n",
       "      <th>stoptime</th>\n",
       "      <th>start station id</th>\n",
       "      <th>start station name</th>\n",
       "      <th>start station latitude</th>\n",
       "      <th>start station longitude</th>\n",
       "      <th>end station id</th>\n",
       "      <th>end station name</th>\n",
       "      <th>end station latitude</th>\n",
       "      <th>end station longitude</th>\n",
       "      <th>bikeid</th>\n",
       "      <th>usertype</th>\n",
       "      <th>birth year</th>\n",
       "      <th>gender</th>\n",
       "    </tr>\n",
       "  </thead>\n",
       "  <tbody>\n",
       "    <tr>\n",
       "      <th>0</th>\n",
       "      <td>61</td>\n",
       "      <td>9/21/2015 14:53</td>\n",
       "      <td>9/21/2015 14:54</td>\n",
       "      <td>3185</td>\n",
       "      <td>City Hall</td>\n",
       "      <td>40.717733</td>\n",
       "      <td>-74.043845</td>\n",
       "      <td>3185</td>\n",
       "      <td>City Hall</td>\n",
       "      <td>40.717733</td>\n",
       "      <td>-74.043845</td>\n",
       "      <td>24722</td>\n",
       "      <td>Subscriber</td>\n",
       "      <td>1975.0</td>\n",
       "      <td>1</td>\n",
       "    </tr>\n",
       "    <tr>\n",
       "      <th>1</th>\n",
       "      <td>290</td>\n",
       "      <td>9/21/2015 14:55</td>\n",
       "      <td>9/21/2015 15:00</td>\n",
       "      <td>3183</td>\n",
       "      <td>Exchange Place</td>\n",
       "      <td>40.716247</td>\n",
       "      <td>-74.033459</td>\n",
       "      <td>3187</td>\n",
       "      <td>Warren St</td>\n",
       "      <td>40.721124</td>\n",
       "      <td>-74.038051</td>\n",
       "      <td>24388</td>\n",
       "      <td>Customer</td>\n",
       "      <td>NaN</td>\n",
       "      <td>0</td>\n",
       "    </tr>\n",
       "    <tr>\n",
       "      <th>2</th>\n",
       "      <td>786</td>\n",
       "      <td>9/21/2015 14:56</td>\n",
       "      <td>9/21/2015 15:09</td>\n",
       "      <td>3183</td>\n",
       "      <td>Exchange Place</td>\n",
       "      <td>40.716247</td>\n",
       "      <td>-74.033459</td>\n",
       "      <td>3183</td>\n",
       "      <td>Exchange Place</td>\n",
       "      <td>40.716247</td>\n",
       "      <td>-74.033459</td>\n",
       "      <td>24442</td>\n",
       "      <td>Subscriber</td>\n",
       "      <td>1962.0</td>\n",
       "      <td>1</td>\n",
       "    </tr>\n",
       "    <tr>\n",
       "      <th>3</th>\n",
       "      <td>477</td>\n",
       "      <td>9/21/2015 14:58</td>\n",
       "      <td>9/21/2015 15:06</td>\n",
       "      <td>3203</td>\n",
       "      <td>Hamilton Park</td>\n",
       "      <td>40.727596</td>\n",
       "      <td>-74.044247</td>\n",
       "      <td>3203</td>\n",
       "      <td>Hamilton Park</td>\n",
       "      <td>40.727596</td>\n",
       "      <td>-74.044247</td>\n",
       "      <td>24678</td>\n",
       "      <td>Subscriber</td>\n",
       "      <td>1977.0</td>\n",
       "      <td>2</td>\n",
       "    </tr>\n",
       "    <tr>\n",
       "      <th>4</th>\n",
       "      <td>451</td>\n",
       "      <td>9/21/2015 14:59</td>\n",
       "      <td>9/21/2015 15:07</td>\n",
       "      <td>3203</td>\n",
       "      <td>Hamilton Park</td>\n",
       "      <td>40.727596</td>\n",
       "      <td>-74.044247</td>\n",
       "      <td>3186</td>\n",
       "      <td>Grove St PATH</td>\n",
       "      <td>40.719279</td>\n",
       "      <td>-74.042451</td>\n",
       "      <td>24574</td>\n",
       "      <td>Subscriber</td>\n",
       "      <td>1977.0</td>\n",
       "      <td>2</td>\n",
       "    </tr>\n",
       "  </tbody>\n",
       "</table>\n",
       "</div>"
      ],
      "text/plain": [
       "   tripduration        starttime         stoptime  start station id  \\\n",
       "0            61  9/21/2015 14:53  9/21/2015 14:54              3185   \n",
       "1           290  9/21/2015 14:55  9/21/2015 15:00              3183   \n",
       "2           786  9/21/2015 14:56  9/21/2015 15:09              3183   \n",
       "3           477  9/21/2015 14:58  9/21/2015 15:06              3203   \n",
       "4           451  9/21/2015 14:59  9/21/2015 15:07              3203   \n",
       "\n",
       "  start station name  start station latitude  start station longitude  \\\n",
       "0          City Hall               40.717733               -74.043845   \n",
       "1     Exchange Place               40.716247               -74.033459   \n",
       "2     Exchange Place               40.716247               -74.033459   \n",
       "3      Hamilton Park               40.727596               -74.044247   \n",
       "4      Hamilton Park               40.727596               -74.044247   \n",
       "\n",
       "   end station id end station name  end station latitude  \\\n",
       "0            3185        City Hall             40.717733   \n",
       "1            3187        Warren St             40.721124   \n",
       "2            3183   Exchange Place             40.716247   \n",
       "3            3203    Hamilton Park             40.727596   \n",
       "4            3186    Grove St PATH             40.719279   \n",
       "\n",
       "   end station longitude  bikeid    usertype  birth year  gender  \n",
       "0             -74.043845   24722  Subscriber      1975.0       1  \n",
       "1             -74.038051   24388    Customer         NaN       0  \n",
       "2             -74.033459   24442  Subscriber      1962.0       1  \n",
       "3             -74.044247   24678  Subscriber      1977.0       2  \n",
       "4             -74.042451   24574  Subscriber      1977.0       2  "
      ]
     },
     "execution_count": 3,
     "metadata": {},
     "output_type": "execute_result"
    }
   ],
   "source": [
    "raw = pd.read_csv('jc-city-bike-batch.csv')\n",
    "raw.head()"
   ]
  },
  {
   "cell_type": "code",
   "execution_count": 7,
   "metadata": {
    "collapsed": false
   },
   "outputs": [
    {
     "name": "stdout",
     "output_type": "stream",
     "text": [
      "the total number of trips is 161920\n"
     ]
    }
   ],
   "source": [
    "print \"the total number of trips is\", len(raw)"
   ]
  },
  {
   "cell_type": "code",
   "execution_count": 9,
   "metadata": {
    "collapsed": false
   },
   "outputs": [
    {
     "name": "stderr",
     "output_type": "stream",
     "text": [
      "/opt/rh/anaconda/root/lib/python2.7/site-packages/numpy/lib/function_base.py:3834: RuntimeWarning: Invalid value encountered in percentile\n",
      "  RuntimeWarning)\n"
     ]
    },
    {
     "data": {
      "text/html": [
       "<div>\n",
       "<table border=\"1\" class=\"dataframe\">\n",
       "  <thead>\n",
       "    <tr style=\"text-align: right;\">\n",
       "      <th></th>\n",
       "      <th>tripduration</th>\n",
       "      <th>start station id</th>\n",
       "      <th>start station latitude</th>\n",
       "      <th>start station longitude</th>\n",
       "      <th>end station id</th>\n",
       "      <th>end station latitude</th>\n",
       "      <th>end station longitude</th>\n",
       "      <th>bikeid</th>\n",
       "      <th>birth year</th>\n",
       "      <th>gender</th>\n",
       "    </tr>\n",
       "  </thead>\n",
       "  <tbody>\n",
       "    <tr>\n",
       "      <th>count</th>\n",
       "      <td>1.619200e+05</td>\n",
       "      <td>161920.000000</td>\n",
       "      <td>161920.000000</td>\n",
       "      <td>161920.000000</td>\n",
       "      <td>161920.000000</td>\n",
       "      <td>161920.000000</td>\n",
       "      <td>161920.000000</td>\n",
       "      <td>161920.000000</td>\n",
       "      <td>147344.000000</td>\n",
       "      <td>161920.000000</td>\n",
       "    </tr>\n",
       "    <tr>\n",
       "      <th>mean</th>\n",
       "      <td>1.116225e+03</td>\n",
       "      <td>3198.741663</td>\n",
       "      <td>40.723182</td>\n",
       "      <td>-74.045626</td>\n",
       "      <td>3196.179817</td>\n",
       "      <td>40.722578</td>\n",
       "      <td>-74.044997</td>\n",
       "      <td>24546.068979</td>\n",
       "      <td>1979.015664</td>\n",
       "      <td>1.107510</td>\n",
       "    </tr>\n",
       "    <tr>\n",
       "      <th>std</th>\n",
       "      <td>5.578586e+04</td>\n",
       "      <td>11.801692</td>\n",
       "      <td>0.143372</td>\n",
       "      <td>0.260500</td>\n",
       "      <td>64.147900</td>\n",
       "      <td>0.143360</td>\n",
       "      <td>0.260499</td>\n",
       "      <td>201.256141</td>\n",
       "      <td>9.558364</td>\n",
       "      <td>0.530451</td>\n",
       "    </tr>\n",
       "    <tr>\n",
       "      <th>min</th>\n",
       "      <td>6.100000e+01</td>\n",
       "      <td>3036.000000</td>\n",
       "      <td>0.000000</td>\n",
       "      <td>-74.096937</td>\n",
       "      <td>147.000000</td>\n",
       "      <td>0.000000</td>\n",
       "      <td>-74.096937</td>\n",
       "      <td>14552.000000</td>\n",
       "      <td>1900.000000</td>\n",
       "      <td>0.000000</td>\n",
       "    </tr>\n",
       "    <tr>\n",
       "      <th>25%</th>\n",
       "      <td>2.670000e+02</td>\n",
       "      <td>3186.000000</td>\n",
       "      <td>40.717733</td>\n",
       "      <td>-74.051789</td>\n",
       "      <td>3186.000000</td>\n",
       "      <td>40.717733</td>\n",
       "      <td>-74.050656</td>\n",
       "      <td>24460.750000</td>\n",
       "      <td>NaN</td>\n",
       "      <td>1.000000</td>\n",
       "    </tr>\n",
       "    <tr>\n",
       "      <th>50%</th>\n",
       "      <td>4.240000e+02</td>\n",
       "      <td>3199.000000</td>\n",
       "      <td>40.721525</td>\n",
       "      <td>-74.044247</td>\n",
       "      <td>3195.000000</td>\n",
       "      <td>40.721124</td>\n",
       "      <td>-74.043845</td>\n",
       "      <td>24552.000000</td>\n",
       "      <td>NaN</td>\n",
       "      <td>1.000000</td>\n",
       "    </tr>\n",
       "    <tr>\n",
       "      <th>75%</th>\n",
       "      <td>7.220000e+02</td>\n",
       "      <td>3209.000000</td>\n",
       "      <td>40.727596</td>\n",
       "      <td>-74.036486</td>\n",
       "      <td>3207.000000</td>\n",
       "      <td>40.727596</td>\n",
       "      <td>-74.036486</td>\n",
       "      <td>24639.000000</td>\n",
       "      <td>NaN</td>\n",
       "      <td>1.000000</td>\n",
       "    </tr>\n",
       "    <tr>\n",
       "      <th>max</th>\n",
       "      <td>2.026021e+07</td>\n",
       "      <td>3272.000000</td>\n",
       "      <td>40.752559</td>\n",
       "      <td>0.000000</td>\n",
       "      <td>3272.000000</td>\n",
       "      <td>40.787209</td>\n",
       "      <td>0.000000</td>\n",
       "      <td>25832.000000</td>\n",
       "      <td>2000.000000</td>\n",
       "      <td>2.000000</td>\n",
       "    </tr>\n",
       "  </tbody>\n",
       "</table>\n",
       "</div>"
      ],
      "text/plain": [
       "       tripduration  start station id  start station latitude  \\\n",
       "count  1.619200e+05     161920.000000           161920.000000   \n",
       "mean   1.116225e+03       3198.741663               40.723182   \n",
       "std    5.578586e+04         11.801692                0.143372   \n",
       "min    6.100000e+01       3036.000000                0.000000   \n",
       "25%    2.670000e+02       3186.000000               40.717733   \n",
       "50%    4.240000e+02       3199.000000               40.721525   \n",
       "75%    7.220000e+02       3209.000000               40.727596   \n",
       "max    2.026021e+07       3272.000000               40.752559   \n",
       "\n",
       "       start station longitude  end station id  end station latitude  \\\n",
       "count            161920.000000   161920.000000         161920.000000   \n",
       "mean                -74.045626     3196.179817             40.722578   \n",
       "std                   0.260500       64.147900              0.143360   \n",
       "min                 -74.096937      147.000000              0.000000   \n",
       "25%                 -74.051789     3186.000000             40.717733   \n",
       "50%                 -74.044247     3195.000000             40.721124   \n",
       "75%                 -74.036486     3207.000000             40.727596   \n",
       "max                   0.000000     3272.000000             40.787209   \n",
       "\n",
       "       end station longitude         bikeid     birth year         gender  \n",
       "count          161920.000000  161920.000000  147344.000000  161920.000000  \n",
       "mean              -74.044997   24546.068979    1979.015664       1.107510  \n",
       "std                 0.260499     201.256141       9.558364       0.530451  \n",
       "min               -74.096937   14552.000000    1900.000000       0.000000  \n",
       "25%               -74.050656   24460.750000            NaN       1.000000  \n",
       "50%               -74.043845   24552.000000            NaN       1.000000  \n",
       "75%               -74.036486   24639.000000            NaN       1.000000  \n",
       "max                 0.000000   25832.000000    2000.000000       2.000000  "
      ]
     },
     "execution_count": 9,
     "metadata": {},
     "output_type": "execute_result"
    }
   ],
   "source": [
    "raw.describe()"
   ]
  },
  {
   "cell_type": "code",
   "execution_count": 10,
   "metadata": {
    "collapsed": true
   },
   "outputs": [],
   "source": [
    "# basic (descriptive) stats"
   ]
  },
  {
   "cell_type": "code",
   "execution_count": 22,
   "metadata": {
    "collapsed": false
   },
   "outputs": [
    {
     "data": {
      "text/plain": [
       "(337670, 1, 7.066666666666666, 18.603755661231887)"
      ]
     },
     "execution_count": 22,
     "metadata": {},
     "output_type": "execute_result"
    }
   ],
   "source": [
    "# trip duration\n",
    "\n",
    "tdmax = raw.tripduration.max()\n",
    "tdmax1 = tdmax/60\n",
    "\n",
    "tdmin = raw.tripduration.min()\n",
    "tdmin1 = tdmin/60\n",
    "\n",
    "tdmed = raw.tripduration.median()\n",
    "tdmed1 = tdmed/60\n",
    "\n",
    "tdavg = raw.tripduration.mean()\n",
    "tdavg1 =  tdavg/60\n",
    "\n",
    "# tdmax1, tdmin1, tdmed1, tdavg1"
   ]
  },
  {
   "cell_type": "code",
   "execution_count": 24,
   "metadata": {
    "collapsed": false
   },
   "outputs": [
    {
     "data": {
      "text/plain": [
       "(116.0, 16.0, 35.0, 36.984335975675968)"
      ]
     },
     "execution_count": 24,
     "metadata": {},
     "output_type": "execute_result"
    }
   ],
   "source": [
    "# age\n",
    "\n",
    "raw['age'] = 2016 - raw['birth year']\n",
    "\n",
    "agemax = raw.age.max()\n",
    "agemin = raw.age.min()\n",
    "agemed = raw.age.median()\n",
    "ageavg = raw.age.mean()\n",
    "\n",
    "# agemax, agemin, agemed, ageavg"
   ]
  },
  {
   "cell_type": "code",
   "execution_count": 36,
   "metadata": {
    "collapsed": false
   },
   "outputs": [
    {
     "data": {
      "text/plain": [
       "3186    23989\n",
       "3183    14657\n",
       "3195    11487\n",
       "3203    11429\n",
       "3202     9797\n",
       "3214     8740\n",
       "3199     7210\n",
       "3209     7032\n",
       "3211     6462\n",
       "3213     6348\n",
       "3187     6224\n",
       "3184     6003\n",
       "3185     5520\n",
       "3192     5083\n",
       "3205     3946\n",
       "3194     3790\n",
       "3193     2984\n",
       "3210     2756\n",
       "3225     2493\n",
       "3207     2119\n",
       "3212     1850\n",
       "3201     1704\n",
       "3215     1530\n",
       "3220     1525\n",
       "3206     1234\n",
       "3198     1203\n",
       "3196     1184\n",
       "3197     1083\n",
       "3190      538\n",
       "3191      375\n",
       "        ...  \n",
       "358         3\n",
       "295         3\n",
       "329         3\n",
       "3002        3\n",
       "457         3\n",
       "501         2\n",
       "304         2\n",
       "3036        2\n",
       "3169        1\n",
       "479         1\n",
       "351         1\n",
       "252         1\n",
       "390         1\n",
       "477         1\n",
       "2008        1\n",
       "466         1\n",
       "247         1\n",
       "426         1\n",
       "428         1\n",
       "3173        1\n",
       "3178        1\n",
       "3265        1\n",
       "448         1\n",
       "147         1\n",
       "315         1\n",
       "309         1\n",
       "534         1\n",
       "430         1\n",
       "284         1\n",
       "484         1\n",
       "Name: end station id, dtype: int64"
      ]
     },
     "execution_count": 36,
     "metadata": {},
     "output_type": "execute_result"
    }
   ],
   "source": [
    "# most popular stations\n",
    "\n",
    "popstart = raw['start station id'].value_counts()\n",
    "\n",
    "popend = raw['end station id'].value_counts()\n",
    "\n",
    "#popstart \n",
    "popend"
   ]
  },
  {
   "cell_type": "code",
   "execution_count": null,
   "metadata": {
    "collapsed": true
   },
   "outputs": [],
   "source": [
    "# gender (value counts)\n",
    "\n",
    "# usertypes (value counts)"
   ]
  }
 ],
 "metadata": {
  "kernelspec": {
   "display_name": "Python 2",
   "language": "python",
   "name": "python2"
  },
  "language_info": {
   "codemirror_mode": {
    "name": "ipython",
    "version": 2
   },
   "file_extension": ".py",
   "mimetype": "text/x-python",
   "name": "python",
   "nbconvert_exporter": "python",
   "pygments_lexer": "ipython2",
   "version": "2.7.11"
  }
 },
 "nbformat": 4,
 "nbformat_minor": 0
}
